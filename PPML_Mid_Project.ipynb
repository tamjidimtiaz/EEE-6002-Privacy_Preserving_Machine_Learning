{
  "nbformat": 4,
  "nbformat_minor": 0,
  "metadata": {
    "colab": {
      "name": "PPML_Mid_Project.ipynb",
      "provenance": [],
      "collapsed_sections": []
    },
    "kernelspec": {
      "name": "python3",
      "display_name": "Python 3"
    },
    "accelerator": "GPU"
  },
  "cells": [
    {
      "cell_type": "markdown",
      "metadata": {
        "id": "ZBtSmYKo_bON"
      },
      "source": [
        "##Midterm Project\r\n",
        "In this project, a logistic regression algorithm is implemented and later applied on the dataset collected from UCI database. \r\n",
        "\r\n",
        "###Dataset Description:\r\n",
        "NICEATM and NCCT collected and curated a rat acute oraltoxicity database of systemic toxicity Lethal Dose 50 (LD50)values, which represent the concentration needed to causelethality in 50% of the utilized animals.[4]A total of fivedifferent modelling endpoints related to acute oral systemictoxicity were provided, on the basis of regulatory criteriaand decision contexts used by ICCVAM agencies. In thisstudy, two endpoints were considered to calibrate qualita-tive QSAR models: a) very toxic (VT), defining molecules aspositive (very toxic) if their experimental LD50 was lowerthan  50 mg/kg;  b)  nontoxic  (NT),  defining  moleculespositive (nontoxic) if their experimental LD50was greaterthan or equal to 2,000 mg/kg.\r\n",
        "\r\n",
        "Dataset information is provided in https://archive.ics.uci.edu/ml/datasets/QSAR+oral+toxicity"
      ]
    },
    {
      "cell_type": "markdown",
      "metadata": {
        "id": "6kuZ_irx_fcU"
      },
      "source": [
        "First of all, Lets open the dataset and show the top 5 entries"
      ]
    },
    {
      "cell_type": "code",
      "metadata": {
        "colab": {
          "base_uri": "https://localhost:8080/",
          "height": 256
        },
        "id": "3TCyNsY9_S_H",
        "outputId": "9f33a6d8-04d5-4cd5-e3ae-b706520139a2"
      },
      "source": [
        "import pandas as pd\r\n",
        "import numpy as np\r\n",
        "\r\n",
        "link = 'https://raw.githubusercontent.com/tamjidimtiaz/EEE-6002-Privacy_Preserving_Machine_Learning/main/Dataset/qsar_oral_toxicity.csv'\r\n",
        "\r\n",
        "qsar_data = pd.read_csv(link, sep = ';', header = None)\r\n",
        "\r\n",
        "qsar_data.head()"
      ],
      "execution_count": 1,
      "outputs": [
        {
          "output_type": "execute_result",
          "data": {
            "text/html": [
              "<div>\n",
              "<style scoped>\n",
              "    .dataframe tbody tr th:only-of-type {\n",
              "        vertical-align: middle;\n",
              "    }\n",
              "\n",
              "    .dataframe tbody tr th {\n",
              "        vertical-align: top;\n",
              "    }\n",
              "\n",
              "    .dataframe thead th {\n",
              "        text-align: right;\n",
              "    }\n",
              "</style>\n",
              "<table border=\"1\" class=\"dataframe\">\n",
              "  <thead>\n",
              "    <tr style=\"text-align: right;\">\n",
              "      <th></th>\n",
              "      <th>0</th>\n",
              "      <th>1</th>\n",
              "      <th>2</th>\n",
              "      <th>3</th>\n",
              "      <th>4</th>\n",
              "      <th>5</th>\n",
              "      <th>6</th>\n",
              "      <th>7</th>\n",
              "      <th>8</th>\n",
              "      <th>9</th>\n",
              "      <th>10</th>\n",
              "      <th>11</th>\n",
              "      <th>12</th>\n",
              "      <th>13</th>\n",
              "      <th>14</th>\n",
              "      <th>15</th>\n",
              "      <th>16</th>\n",
              "      <th>17</th>\n",
              "      <th>18</th>\n",
              "      <th>19</th>\n",
              "      <th>20</th>\n",
              "      <th>21</th>\n",
              "      <th>22</th>\n",
              "      <th>23</th>\n",
              "      <th>24</th>\n",
              "      <th>25</th>\n",
              "      <th>26</th>\n",
              "      <th>27</th>\n",
              "      <th>28</th>\n",
              "      <th>29</th>\n",
              "      <th>30</th>\n",
              "      <th>31</th>\n",
              "      <th>32</th>\n",
              "      <th>33</th>\n",
              "      <th>34</th>\n",
              "      <th>35</th>\n",
              "      <th>36</th>\n",
              "      <th>37</th>\n",
              "      <th>38</th>\n",
              "      <th>39</th>\n",
              "      <th>...</th>\n",
              "      <th>985</th>\n",
              "      <th>986</th>\n",
              "      <th>987</th>\n",
              "      <th>988</th>\n",
              "      <th>989</th>\n",
              "      <th>990</th>\n",
              "      <th>991</th>\n",
              "      <th>992</th>\n",
              "      <th>993</th>\n",
              "      <th>994</th>\n",
              "      <th>995</th>\n",
              "      <th>996</th>\n",
              "      <th>997</th>\n",
              "      <th>998</th>\n",
              "      <th>999</th>\n",
              "      <th>1000</th>\n",
              "      <th>1001</th>\n",
              "      <th>1002</th>\n",
              "      <th>1003</th>\n",
              "      <th>1004</th>\n",
              "      <th>1005</th>\n",
              "      <th>1006</th>\n",
              "      <th>1007</th>\n",
              "      <th>1008</th>\n",
              "      <th>1009</th>\n",
              "      <th>1010</th>\n",
              "      <th>1011</th>\n",
              "      <th>1012</th>\n",
              "      <th>1013</th>\n",
              "      <th>1014</th>\n",
              "      <th>1015</th>\n",
              "      <th>1016</th>\n",
              "      <th>1017</th>\n",
              "      <th>1018</th>\n",
              "      <th>1019</th>\n",
              "      <th>1020</th>\n",
              "      <th>1021</th>\n",
              "      <th>1022</th>\n",
              "      <th>1023</th>\n",
              "      <th>1024</th>\n",
              "    </tr>\n",
              "  </thead>\n",
              "  <tbody>\n",
              "    <tr>\n",
              "      <th>0</th>\n",
              "      <td>0</td>\n",
              "      <td>0</td>\n",
              "      <td>0</td>\n",
              "      <td>0</td>\n",
              "      <td>0</td>\n",
              "      <td>0</td>\n",
              "      <td>0</td>\n",
              "      <td>0</td>\n",
              "      <td>0</td>\n",
              "      <td>0</td>\n",
              "      <td>1</td>\n",
              "      <td>0</td>\n",
              "      <td>0</td>\n",
              "      <td>0</td>\n",
              "      <td>0</td>\n",
              "      <td>0</td>\n",
              "      <td>1</td>\n",
              "      <td>0</td>\n",
              "      <td>0</td>\n",
              "      <td>0</td>\n",
              "      <td>0</td>\n",
              "      <td>0</td>\n",
              "      <td>0</td>\n",
              "      <td>0</td>\n",
              "      <td>0</td>\n",
              "      <td>0</td>\n",
              "      <td>0</td>\n",
              "      <td>0</td>\n",
              "      <td>0</td>\n",
              "      <td>0</td>\n",
              "      <td>0</td>\n",
              "      <td>0</td>\n",
              "      <td>0</td>\n",
              "      <td>0</td>\n",
              "      <td>0</td>\n",
              "      <td>0</td>\n",
              "      <td>0</td>\n",
              "      <td>0</td>\n",
              "      <td>0</td>\n",
              "      <td>0</td>\n",
              "      <td>...</td>\n",
              "      <td>1</td>\n",
              "      <td>0</td>\n",
              "      <td>0</td>\n",
              "      <td>0</td>\n",
              "      <td>1</td>\n",
              "      <td>0</td>\n",
              "      <td>0</td>\n",
              "      <td>0</td>\n",
              "      <td>0</td>\n",
              "      <td>0</td>\n",
              "      <td>0</td>\n",
              "      <td>0</td>\n",
              "      <td>0</td>\n",
              "      <td>0</td>\n",
              "      <td>0</td>\n",
              "      <td>0</td>\n",
              "      <td>0</td>\n",
              "      <td>0</td>\n",
              "      <td>0</td>\n",
              "      <td>0</td>\n",
              "      <td>0</td>\n",
              "      <td>0</td>\n",
              "      <td>0</td>\n",
              "      <td>0</td>\n",
              "      <td>0</td>\n",
              "      <td>0</td>\n",
              "      <td>0</td>\n",
              "      <td>0</td>\n",
              "      <td>0</td>\n",
              "      <td>0</td>\n",
              "      <td>0</td>\n",
              "      <td>0</td>\n",
              "      <td>0</td>\n",
              "      <td>0</td>\n",
              "      <td>0</td>\n",
              "      <td>0</td>\n",
              "      <td>0</td>\n",
              "      <td>0</td>\n",
              "      <td>0</td>\n",
              "      <td>negative</td>\n",
              "    </tr>\n",
              "    <tr>\n",
              "      <th>1</th>\n",
              "      <td>0</td>\n",
              "      <td>0</td>\n",
              "      <td>1</td>\n",
              "      <td>0</td>\n",
              "      <td>0</td>\n",
              "      <td>0</td>\n",
              "      <td>0</td>\n",
              "      <td>0</td>\n",
              "      <td>0</td>\n",
              "      <td>0</td>\n",
              "      <td>1</td>\n",
              "      <td>0</td>\n",
              "      <td>0</td>\n",
              "      <td>0</td>\n",
              "      <td>0</td>\n",
              "      <td>0</td>\n",
              "      <td>1</td>\n",
              "      <td>0</td>\n",
              "      <td>0</td>\n",
              "      <td>0</td>\n",
              "      <td>0</td>\n",
              "      <td>0</td>\n",
              "      <td>0</td>\n",
              "      <td>0</td>\n",
              "      <td>0</td>\n",
              "      <td>0</td>\n",
              "      <td>0</td>\n",
              "      <td>0</td>\n",
              "      <td>0</td>\n",
              "      <td>0</td>\n",
              "      <td>0</td>\n",
              "      <td>0</td>\n",
              "      <td>0</td>\n",
              "      <td>0</td>\n",
              "      <td>0</td>\n",
              "      <td>0</td>\n",
              "      <td>0</td>\n",
              "      <td>0</td>\n",
              "      <td>0</td>\n",
              "      <td>0</td>\n",
              "      <td>...</td>\n",
              "      <td>1</td>\n",
              "      <td>0</td>\n",
              "      <td>0</td>\n",
              "      <td>0</td>\n",
              "      <td>0</td>\n",
              "      <td>0</td>\n",
              "      <td>0</td>\n",
              "      <td>0</td>\n",
              "      <td>0</td>\n",
              "      <td>0</td>\n",
              "      <td>1</td>\n",
              "      <td>0</td>\n",
              "      <td>0</td>\n",
              "      <td>0</td>\n",
              "      <td>0</td>\n",
              "      <td>0</td>\n",
              "      <td>0</td>\n",
              "      <td>0</td>\n",
              "      <td>0</td>\n",
              "      <td>0</td>\n",
              "      <td>0</td>\n",
              "      <td>0</td>\n",
              "      <td>1</td>\n",
              "      <td>0</td>\n",
              "      <td>0</td>\n",
              "      <td>0</td>\n",
              "      <td>0</td>\n",
              "      <td>0</td>\n",
              "      <td>0</td>\n",
              "      <td>0</td>\n",
              "      <td>0</td>\n",
              "      <td>0</td>\n",
              "      <td>0</td>\n",
              "      <td>0</td>\n",
              "      <td>0</td>\n",
              "      <td>0</td>\n",
              "      <td>0</td>\n",
              "      <td>0</td>\n",
              "      <td>0</td>\n",
              "      <td>negative</td>\n",
              "    </tr>\n",
              "    <tr>\n",
              "      <th>2</th>\n",
              "      <td>0</td>\n",
              "      <td>0</td>\n",
              "      <td>0</td>\n",
              "      <td>0</td>\n",
              "      <td>0</td>\n",
              "      <td>0</td>\n",
              "      <td>0</td>\n",
              "      <td>0</td>\n",
              "      <td>0</td>\n",
              "      <td>0</td>\n",
              "      <td>1</td>\n",
              "      <td>0</td>\n",
              "      <td>0</td>\n",
              "      <td>0</td>\n",
              "      <td>0</td>\n",
              "      <td>0</td>\n",
              "      <td>1</td>\n",
              "      <td>0</td>\n",
              "      <td>0</td>\n",
              "      <td>0</td>\n",
              "      <td>0</td>\n",
              "      <td>0</td>\n",
              "      <td>0</td>\n",
              "      <td>0</td>\n",
              "      <td>0</td>\n",
              "      <td>0</td>\n",
              "      <td>0</td>\n",
              "      <td>0</td>\n",
              "      <td>0</td>\n",
              "      <td>0</td>\n",
              "      <td>0</td>\n",
              "      <td>0</td>\n",
              "      <td>0</td>\n",
              "      <td>0</td>\n",
              "      <td>0</td>\n",
              "      <td>0</td>\n",
              "      <td>0</td>\n",
              "      <td>0</td>\n",
              "      <td>0</td>\n",
              "      <td>0</td>\n",
              "      <td>...</td>\n",
              "      <td>1</td>\n",
              "      <td>0</td>\n",
              "      <td>0</td>\n",
              "      <td>0</td>\n",
              "      <td>0</td>\n",
              "      <td>0</td>\n",
              "      <td>0</td>\n",
              "      <td>0</td>\n",
              "      <td>0</td>\n",
              "      <td>1</td>\n",
              "      <td>1</td>\n",
              "      <td>0</td>\n",
              "      <td>0</td>\n",
              "      <td>0</td>\n",
              "      <td>0</td>\n",
              "      <td>0</td>\n",
              "      <td>0</td>\n",
              "      <td>0</td>\n",
              "      <td>0</td>\n",
              "      <td>0</td>\n",
              "      <td>0</td>\n",
              "      <td>0</td>\n",
              "      <td>0</td>\n",
              "      <td>0</td>\n",
              "      <td>0</td>\n",
              "      <td>0</td>\n",
              "      <td>0</td>\n",
              "      <td>0</td>\n",
              "      <td>0</td>\n",
              "      <td>0</td>\n",
              "      <td>0</td>\n",
              "      <td>0</td>\n",
              "      <td>1</td>\n",
              "      <td>0</td>\n",
              "      <td>0</td>\n",
              "      <td>0</td>\n",
              "      <td>0</td>\n",
              "      <td>0</td>\n",
              "      <td>0</td>\n",
              "      <td>negative</td>\n",
              "    </tr>\n",
              "    <tr>\n",
              "      <th>3</th>\n",
              "      <td>0</td>\n",
              "      <td>0</td>\n",
              "      <td>0</td>\n",
              "      <td>0</td>\n",
              "      <td>0</td>\n",
              "      <td>0</td>\n",
              "      <td>0</td>\n",
              "      <td>1</td>\n",
              "      <td>0</td>\n",
              "      <td>0</td>\n",
              "      <td>1</td>\n",
              "      <td>0</td>\n",
              "      <td>0</td>\n",
              "      <td>0</td>\n",
              "      <td>0</td>\n",
              "      <td>0</td>\n",
              "      <td>1</td>\n",
              "      <td>0</td>\n",
              "      <td>0</td>\n",
              "      <td>0</td>\n",
              "      <td>0</td>\n",
              "      <td>0</td>\n",
              "      <td>0</td>\n",
              "      <td>0</td>\n",
              "      <td>0</td>\n",
              "      <td>0</td>\n",
              "      <td>0</td>\n",
              "      <td>0</td>\n",
              "      <td>0</td>\n",
              "      <td>0</td>\n",
              "      <td>0</td>\n",
              "      <td>0</td>\n",
              "      <td>0</td>\n",
              "      <td>0</td>\n",
              "      <td>0</td>\n",
              "      <td>0</td>\n",
              "      <td>0</td>\n",
              "      <td>0</td>\n",
              "      <td>0</td>\n",
              "      <td>0</td>\n",
              "      <td>...</td>\n",
              "      <td>1</td>\n",
              "      <td>0</td>\n",
              "      <td>0</td>\n",
              "      <td>0</td>\n",
              "      <td>0</td>\n",
              "      <td>0</td>\n",
              "      <td>0</td>\n",
              "      <td>0</td>\n",
              "      <td>0</td>\n",
              "      <td>0</td>\n",
              "      <td>1</td>\n",
              "      <td>0</td>\n",
              "      <td>0</td>\n",
              "      <td>0</td>\n",
              "      <td>0</td>\n",
              "      <td>0</td>\n",
              "      <td>0</td>\n",
              "      <td>0</td>\n",
              "      <td>0</td>\n",
              "      <td>0</td>\n",
              "      <td>0</td>\n",
              "      <td>0</td>\n",
              "      <td>0</td>\n",
              "      <td>1</td>\n",
              "      <td>0</td>\n",
              "      <td>0</td>\n",
              "      <td>0</td>\n",
              "      <td>0</td>\n",
              "      <td>0</td>\n",
              "      <td>0</td>\n",
              "      <td>0</td>\n",
              "      <td>0</td>\n",
              "      <td>0</td>\n",
              "      <td>0</td>\n",
              "      <td>0</td>\n",
              "      <td>0</td>\n",
              "      <td>0</td>\n",
              "      <td>0</td>\n",
              "      <td>0</td>\n",
              "      <td>negative</td>\n",
              "    </tr>\n",
              "    <tr>\n",
              "      <th>4</th>\n",
              "      <td>0</td>\n",
              "      <td>0</td>\n",
              "      <td>0</td>\n",
              "      <td>0</td>\n",
              "      <td>0</td>\n",
              "      <td>0</td>\n",
              "      <td>0</td>\n",
              "      <td>0</td>\n",
              "      <td>0</td>\n",
              "      <td>0</td>\n",
              "      <td>0</td>\n",
              "      <td>0</td>\n",
              "      <td>0</td>\n",
              "      <td>1</td>\n",
              "      <td>0</td>\n",
              "      <td>0</td>\n",
              "      <td>1</td>\n",
              "      <td>0</td>\n",
              "      <td>0</td>\n",
              "      <td>0</td>\n",
              "      <td>0</td>\n",
              "      <td>0</td>\n",
              "      <td>0</td>\n",
              "      <td>0</td>\n",
              "      <td>0</td>\n",
              "      <td>0</td>\n",
              "      <td>0</td>\n",
              "      <td>0</td>\n",
              "      <td>0</td>\n",
              "      <td>0</td>\n",
              "      <td>0</td>\n",
              "      <td>0</td>\n",
              "      <td>0</td>\n",
              "      <td>0</td>\n",
              "      <td>0</td>\n",
              "      <td>0</td>\n",
              "      <td>0</td>\n",
              "      <td>0</td>\n",
              "      <td>0</td>\n",
              "      <td>0</td>\n",
              "      <td>...</td>\n",
              "      <td>1</td>\n",
              "      <td>0</td>\n",
              "      <td>0</td>\n",
              "      <td>0</td>\n",
              "      <td>0</td>\n",
              "      <td>0</td>\n",
              "      <td>0</td>\n",
              "      <td>0</td>\n",
              "      <td>0</td>\n",
              "      <td>0</td>\n",
              "      <td>1</td>\n",
              "      <td>0</td>\n",
              "      <td>1</td>\n",
              "      <td>0</td>\n",
              "      <td>0</td>\n",
              "      <td>0</td>\n",
              "      <td>0</td>\n",
              "      <td>0</td>\n",
              "      <td>0</td>\n",
              "      <td>0</td>\n",
              "      <td>0</td>\n",
              "      <td>0</td>\n",
              "      <td>1</td>\n",
              "      <td>0</td>\n",
              "      <td>0</td>\n",
              "      <td>0</td>\n",
              "      <td>0</td>\n",
              "      <td>0</td>\n",
              "      <td>0</td>\n",
              "      <td>0</td>\n",
              "      <td>0</td>\n",
              "      <td>0</td>\n",
              "      <td>0</td>\n",
              "      <td>0</td>\n",
              "      <td>0</td>\n",
              "      <td>0</td>\n",
              "      <td>0</td>\n",
              "      <td>0</td>\n",
              "      <td>0</td>\n",
              "      <td>negative</td>\n",
              "    </tr>\n",
              "  </tbody>\n",
              "</table>\n",
              "<p>5 rows × 1025 columns</p>\n",
              "</div>"
            ],
            "text/plain": [
              "   0     1     2     3     4     5     ...  1019  1020  1021  1022  1023      1024\n",
              "0     0     0     0     0     0     0  ...     0     0     0     0     0  negative\n",
              "1     0     0     1     0     0     0  ...     0     0     0     0     0  negative\n",
              "2     0     0     0     0     0     0  ...     0     0     0     0     0  negative\n",
              "3     0     0     0     0     0     0  ...     0     0     0     0     0  negative\n",
              "4     0     0     0     0     0     0  ...     0     0     0     0     0  negative\n",
              "\n",
              "[5 rows x 1025 columns]"
            ]
          },
          "metadata": {
            "tags": []
          },
          "execution_count": 1
        }
      ]
    },
    {
      "cell_type": "markdown",
      "metadata": {
        "id": "YcUG8Lqu_6k_"
      },
      "source": [
        "Let's check how many data points we have."
      ]
    },
    {
      "cell_type": "code",
      "metadata": {
        "colab": {
          "base_uri": "https://localhost:8080/"
        },
        "id": "UTar5XUO_h4X",
        "outputId": "d86ed53c-a332-4c5a-b400-a65ae4e84206"
      },
      "source": [
        "qsar_data.shape"
      ],
      "execution_count": 2,
      "outputs": [
        {
          "output_type": "execute_result",
          "data": {
            "text/plain": [
              "(8992, 1025)"
            ]
          },
          "metadata": {
            "tags": []
          },
          "execution_count": 2
        }
      ]
    },
    {
      "cell_type": "markdown",
      "metadata": {
        "id": "JjqLscWXABM4"
      },
      "source": [
        "Let's check that if the dataset contains any null values"
      ]
    },
    {
      "cell_type": "code",
      "metadata": {
        "colab": {
          "base_uri": "https://localhost:8080/"
        },
        "id": "JEV6rrf1_-g4",
        "outputId": "e8638857-25a6-4ac8-f74e-3928ca609bee"
      },
      "source": [
        "qsar_data.isnull().sum()"
      ],
      "execution_count": 3,
      "outputs": [
        {
          "output_type": "execute_result",
          "data": {
            "text/plain": [
              "0       0\n",
              "1       0\n",
              "2       0\n",
              "3       0\n",
              "4       0\n",
              "       ..\n",
              "1020    0\n",
              "1021    0\n",
              "1022    0\n",
              "1023    0\n",
              "1024    0\n",
              "Length: 1025, dtype: int64"
            ]
          },
          "metadata": {
            "tags": []
          },
          "execution_count": 3
        }
      ]
    },
    {
      "cell_type": "markdown",
      "metadata": {
        "id": "D16w2OOFAqpS"
      },
      "source": [
        "Let's find the positive and negative class samples and handle them to make a balanced dataset"
      ]
    },
    {
      "cell_type": "code",
      "metadata": {
        "id": "b8YuXcATAnxL"
      },
      "source": [
        "# find the positive and negative class samples and create a balanced dataset\r\n",
        "positive=qsar_data[qsar_data[1024]=='positive']\r\n",
        "negative=qsar_data[qsar_data[1024]=='negative'].sample(n=positive.shape[0])\r\n",
        "final=pd.concat([positive,negative])\r\n",
        "\r\n",
        "features = final.iloc[:,:-1].values \r\n",
        "\r\n",
        "# create the target set \r\n",
        "target = final.iloc[:,-1:].values\r\n",
        "target[target=='positive'] = 1\r\n",
        "target[target=='negative'] = 0\r\n",
        "\r\n",
        "target = target.astype('float')"
      ],
      "execution_count": 4,
      "outputs": []
    },
    {
      "cell_type": "markdown",
      "metadata": {
        "id": "uGF9qHdIA_S4"
      },
      "source": [
        "Create training, validation and testing dataset. The split is considered as 70-10-20"
      ]
    },
    {
      "cell_type": "code",
      "metadata": {
        "id": "kh6oyXOQA9CV"
      },
      "source": [
        "from sklearn.model_selection import train_test_split\r\n",
        "\r\n",
        "X_train, X_test, y_train, y_test = train_test_split(features, target, test_size=0.2, random_state=1)\r\n",
        "\r\n",
        "X_train, X_val, y_train, y_val = train_test_split(X_train, y_train, test_size=0.125, random_state=1) "
      ],
      "execution_count": 5,
      "outputs": []
    },
    {
      "cell_type": "markdown",
      "metadata": {
        "id": "jwDY59Erppm0"
      },
      "source": [
        "Check the amount of samples in each sets"
      ]
    },
    {
      "cell_type": "code",
      "metadata": {
        "colab": {
          "base_uri": "https://localhost:8080/"
        },
        "id": "8DzkKnwGpsBk",
        "outputId": "cf1dac0e-2869-4ad3-8282-14b888afca74"
      },
      "source": [
        "print(len(X_train))\r\n",
        "print(len(X_test))\r\n",
        "print(len(X_val))"
      ],
      "execution_count": 6,
      "outputs": [
        {
          "output_type": "stream",
          "text": [
            "1036\n",
            "297\n",
            "149\n"
          ],
          "name": "stdout"
        }
      ]
    },
    {
      "cell_type": "markdown",
      "metadata": {
        "id": "Vhzv2TsBpuQ9"
      },
      "source": [
        "## Logistic Regression \r\n",
        "\r\n",
        "Now, logistic regression classifier will be implemented. Let's create a class called LogisticRegression(). First initialize the class object with a variable called max_iter which defines the maximum number of iterations upto which the logistic regression will continue to converge. If a certain criteria is flfilled then the convergance will automatically stop before reaching the max_iter. Then a function sigmoid_activation() is implemented which basically takes a variable and apply the sigmoid activation function on it to get the hypothesis function. Next, model_optimize() function is created to calculate the cost function from the hypothesis function and calculate the gradient of the cost function to operate the gradient descend algorithm. Then, the major operative function fit() is created which basically trace the loss function (both in training and validation), update the weights and continue the operation ntil the cross validation cost decreases. Finally the predict function will take the score and based on the decision boundary it will give a classification label.  "
      ]
    },
    {
      "cell_type": "code",
      "metadata": {
        "id": "U_4HJ3RosmEr"
      },
      "source": [
        "class LogisticRegression(object):\r\n",
        "    \"\"\"\r\n",
        "    Logistic Regression Classifier\r\n",
        "    \"\"\"\r\n",
        "    def __init__(self, max_iter=8000):\r\n",
        "        self.max_iter       = max_iter\r\n",
        "\r\n",
        "    # Sigmoid Function\r\n",
        "    def sigmoid_activation(self, result):\r\n",
        "        result = result.astype('float')\r\n",
        "        final_result = 1/(1+np.exp(-result))\r\n",
        "        return final_result\r\n",
        "    # Optimizing the model by calculating the cost and gradient\r\n",
        "    def model_optimize(self, w, b, X, Y, reg_par):\r\n",
        "        m = X.shape[0]\r\n",
        "        \r\n",
        "        #Prediction\r\n",
        "        final_result = self.sigmoid_activation(np.dot(w,X.T)+b)\r\n",
        "        Y_T = Y.T\r\n",
        "        cost = (-1/m)*(np.sum((Y_T*np.log(final_result)) + ((1-Y_T)*(np.log(1-final_result))))) \r\n",
        "        #\r\n",
        "        \r\n",
        "        #Gradient calculation\r\n",
        "        dw = (1/m)*(np.dot(X.T, (final_result-Y.T).T))-((reg_par*w.T/m))\r\n",
        "        db = (1/m)*(np.sum(final_result-Y.T))\r\n",
        "        \r\n",
        "        grads = {\"dw\": dw, \"db\": db}\r\n",
        "        \r\n",
        "        return grads, cost\r\n",
        "    # At each iteration calculate the cost and gradients value, update the weights until the stopping criteria is flfilled     \r\n",
        "    def fit(self, w, b, X, Y, X_v , Y_v, learning_rate, no_iterations, reg_par, early_stopping):\r\n",
        "        costs = []\r\n",
        "        costs_val = []\r\n",
        "        cost_val_temp = 10000\r\n",
        "        db = []\r\n",
        "        normJ = []\r\n",
        "        reqit = no_iterations\r\n",
        "        for i in range(no_iterations):\r\n",
        "            #\r\n",
        "            grads, cost = self.model_optimize(w,b,X,Y,reg_par)\r\n",
        "            grads_val, cost_val = self.model_optimize(w,b,X_v,Y_v,reg_par)\r\n",
        "            #\r\n",
        "            dw = grads[\"dw\"]\r\n",
        "            normJp=(np.sqrt(np.sum(np.square(dw))))\r\n",
        "            db = grads[\"db\"]\r\n",
        "            #weight update\r\n",
        "            w = w - (learning_rate * (dw.T))\r\n",
        "            b = b - (learning_rate * db)\r\n",
        "            #\r\n",
        "            if (i % 10 == 0):\r\n",
        "                normJ.append(normJp)\r\n",
        "            if (i % 10 == 0):\r\n",
        "                costs_val.append(cost_val)       \r\n",
        "            if (i % 10 == 0):\r\n",
        "                costs.append(cost)\r\n",
        "            # Stopping Criteria\r\n",
        "            if (early_stopping == 1):\r\n",
        "              if (cost_val < cost_val_temp):\r\n",
        "                cost_val_temp = cost_val\r\n",
        "                reqit = i\r\n",
        "                continue\r\n",
        "              else:\r\n",
        "                break\r\n",
        "            else:\r\n",
        "              continue\r\n",
        "\r\n",
        "        #final parameters\r\n",
        "        coeff = {\"w\": w, \"b\": b}\r\n",
        "        gradient = {\"dw\": dw, \"db\": db}\r\n",
        "        \r\n",
        "        return reqit,coeff, normJ, costs, costs_val\r\n",
        "    # Predict the Response    \r\n",
        "    def predict(self, final_pred, m, threshold):\r\n",
        "        y_pred = np.zeros((1,m))\r\n",
        "        y_pred[final_pred>threshold] = 1\r\n",
        "\r\n",
        "        return y_pred"
      ],
      "execution_count": 7,
      "outputs": []
    },
    {
      "cell_type": "markdown",
      "metadata": {
        "id": "gsIJRqI5tE6N"
      },
      "source": [
        "##Training and Validation Accuracy\r\n",
        "\r\n",
        "Now the training and validation accuracy is calculated "
      ]
    },
    {
      "cell_type": "code",
      "metadata": {
        "colab": {
          "base_uri": "https://localhost:8080/"
        },
        "id": "IJ81GRILtQA5",
        "outputId": "c471cafd-73c7-4b3e-b28f-5133042cf162"
      },
      "source": [
        "\r\n",
        "from sklearn.metrics import accuracy_score\r\n",
        "\r\n",
        "def weightInitialization(n_features):\r\n",
        "        w = np.zeros((1,n_features))\r\n",
        "        b = 0\r\n",
        "        return w,b\r\n",
        "\r\n",
        "n_features = X_train.shape[1]\r\n",
        "print('Number of Features', n_features)\r\n",
        "w, b = weightInitialization(n_features)\r\n",
        "\r\n",
        "iter,coeff, gradient, costs, costs_val = LogisticRegression().fit(w, b, X_train, y_train, X_val, y_val, learning_rate=0.01,no_iterations=8000, reg_par = 0.04, early_stopping = 1)\r\n",
        "  \r\n",
        "#Final prediction\r\n",
        "w = coeff[\"w\"]\r\n",
        "b = coeff[\"b\"]\r\n",
        "\r\n",
        "print('Optimized weights', w)\r\n",
        "print('Optimized intercept',b)\r\n",
        "\r\n",
        "\r\n",
        "#\r\n",
        "final_train_pred = LogisticRegression().sigmoid_activation(np.dot(w,X_train.T)+b)\r\n",
        "final_test_pred = LogisticRegression().sigmoid_activation(np.dot(w,X_val.T)+b)\r\n",
        "#\r\n",
        "m_tr =  X_train.shape[0]\r\n",
        "m_ts =  X_val.shape[0]\r\n",
        "#\r\n",
        "y_tr_pred = LogisticRegression().predict(final_train_pred, m_tr, 0.5)\r\n",
        "y_tr_pred = y_tr_pred.T \r\n",
        "print('Training Accuracy',accuracy_score(y_tr_pred, y_train))\r\n",
        "#\r\n",
        "y_ts_pred = LogisticRegression().predict(final_test_pred, m_ts, 0.5)\r\n",
        "y_ts_pred = y_ts_pred.T \r\n",
        "print('Validation Accuracy',accuracy_score(y_ts_pred, y_val))"
      ],
      "execution_count": 8,
      "outputs": [
        {
          "output_type": "stream",
          "text": [
            "Number of Features 1024\n",
            "Optimized weights [[ 0.13128058  0.08167799  0.28963086 ... -0.0352137  -0.19019073\n",
            "  -0.09419305]]\n",
            "Optimized intercept 0.007737000741465474\n",
            "Training Accuracy 0.9121621621621622\n",
            "Validation Accuracy 0.825503355704698\n"
          ],
          "name": "stdout"
        }
      ]
    },
    {
      "cell_type": "markdown",
      "metadata": {
        "id": "ZYaoasNBtRBh"
      },
      "source": [
        "##Precision & Recall Vs threshold\r\n",
        "\r\n",
        "Precision = TP/(TP+FP)\r\n",
        "\r\n",
        "Recall = TP/(TP+FN)\r\n",
        "\r\n",
        "Here, TP = True Positive  FP = False Positive FN = False Negative\r\n",
        "\r\n",
        "To find this curve, two built in function precision_score and recall_score from scikit learn are imported and at each iteration, these two scores are calculated sing these two functions."
      ]
    },
    {
      "cell_type": "code",
      "metadata": {
        "colab": {
          "base_uri": "https://localhost:8080/",
          "height": 480
        },
        "id": "-eB53PDktv-m",
        "outputId": "68788bcc-ccec-4465-c090-0f3ae60ea3a6"
      },
      "source": [
        "from sklearn import metrics\r\n",
        "from sklearn.metrics import precision_score\r\n",
        "from sklearn.metrics import recall_score\r\n",
        "import matplotlib.pyplot as plt\r\n",
        "%matplotlib inline\r\n",
        "\r\n",
        "\r\n",
        "thresholds = range(1,10,1)\r\n",
        "precisions = []\r\n",
        "recalls = []\r\n",
        "for i in thresholds:\r\n",
        "  final_test_pred = LogisticRegression().sigmoid_activation(np.dot(w,X_test.T)+b)\r\n",
        "  m_ts =  X_test.shape[0]\r\n",
        "  y_ts_pred = LogisticRegression().predict(final_test_pred, m_ts, i*0.1)\r\n",
        "  y_ts_pred = y_ts_pred.T \r\n",
        "  print('Test Accuracy',accuracy_score(y_ts_pred, y_test))\r\n",
        "  precisions.append(precision_score(y_test, y_ts_pred, average='macro'))\r\n",
        "  recalls.append(recall_score(y_test, y_ts_pred, average='macro'))\r\n",
        "\r\n",
        "plt.plot(thresholds,precisions)\r\n",
        "plt.plot(thresholds,recalls)\r\n",
        "plt.ylabel('measures')\r\n",
        "plt.xlabel('threshold')\r\n",
        "plt.title('precision & recall vs thresholds')\r\n",
        "plt.legend([\"precision\", \"recall\"])"
      ],
      "execution_count": 9,
      "outputs": [
        {
          "output_type": "stream",
          "text": [
            "Test Accuracy 0.5824915824915825\n",
            "Test Accuracy 0.696969696969697\n",
            "Test Accuracy 0.7306397306397306\n",
            "Test Accuracy 0.7643097643097643\n",
            "Test Accuracy 0.7710437710437711\n",
            "Test Accuracy 0.7710437710437711\n",
            "Test Accuracy 0.7441077441077442\n",
            "Test Accuracy 0.696969696969697\n",
            "Test Accuracy 0.6397306397306397\n"
          ],
          "name": "stdout"
        },
        {
          "output_type": "execute_result",
          "data": {
            "text/plain": [
              "<matplotlib.legend.Legend at 0x7f82ec6e2710>"
            ]
          },
          "metadata": {
            "tags": []
          },
          "execution_count": 9
        },
        {
          "output_type": "display_data",
          "data": {
            "image/png": "[encoded data removed]",
            "text/plain": [
              "<Figure size 432x288 with 1 Axes>"
            ]
          },
          "metadata": {
            "tags": [],
            "needs_background": "light"
          }
        }
      ]
    },
    {
      "cell_type": "markdown",
      "metadata": {
        "id": "tT13FJ99uGD0"
      },
      "source": [
        "##ROC Curve\r\n",
        "\r\n",
        "ROC curve is the relationship between true positive rate and false positive rate. \r\n",
        "\r\n",
        "True Positive Rate(TPR) = TP/(TP+FN)\r\n",
        "\r\n",
        "False Positive Rate(FPR) = FP/(FP+TN)\r\n",
        "\r\n",
        "\r\n"
      ]
    },
    {
      "cell_type": "code",
      "metadata": {
        "colab": {
          "base_uri": "https://localhost:8080/",
          "height": 313
        },
        "id": "7BAkByWVvcgA",
        "outputId": "965e6b1b-f666-40dd-c961-dbbd333d1838"
      },
      "source": [
        "scores = LogisticRegression().sigmoid_activation(np.dot(w,X_test.T)+b)\r\n",
        "fpr, tpr, thresholds = metrics.roc_curve(y_test, scores.T, pos_label=1)\r\n",
        "plt.plot(fpr,tpr)\r\n",
        "plt.ylabel('TPR')\r\n",
        "plt.xlabel('FPR')\r\n",
        "plt.title('ROC CURVE')"
      ],
      "execution_count": 10,
      "outputs": [
        {
          "output_type": "execute_result",
          "data": {
            "text/plain": [
              "Text(0.5, 1.0, 'ROC CURVE')"
            ]
          },
          "metadata": {
            "tags": []
          },
          "execution_count": 10
        },
        {
          "output_type": "display_data",
          "data": {
            "image/png": "[encoded data removed]",
            "text/plain": [
              "<Figure size 432x288 with 1 Axes>"
            ]
          },
          "metadata": {
            "tags": [],
            "needs_background": "light"
          }
        }
      ]
    },
    {
      "cell_type": "markdown",
      "metadata": {
        "id": "CJn-t8_jve3W"
      },
      "source": [
        "## Cost Vs Iteration\r\n",
        "\r\n",
        "Cost of Training and Validation is calculated in each iteration. Both of thm are decreasing after each iteration."
      ]
    },
    {
      "cell_type": "code",
      "metadata": {
        "colab": {
          "base_uri": "https://localhost:8080/",
          "height": 313
        },
        "id": "S0p76fF3vqzI",
        "outputId": "c405a1bb-e7da-4f8a-bb5c-40be6da155fe"
      },
      "source": [
        "\r\n",
        "plt.plot(costs)\r\n",
        "plt.plot(costs_val)\r\n",
        "plt.ylabel('cost')\r\n",
        "plt.xlabel('iterations (per hundreds)')\r\n",
        "plt.title('Cost reduction over time')\r\n",
        "plt.legend([\"Training Cost Vs Iteration\", \"Validation Cost Vs Iteration\"])"
      ],
      "execution_count": 11,
      "outputs": [
        {
          "output_type": "execute_result",
          "data": {
            "text/plain": [
              "<matplotlib.legend.Legend at 0x7f82ec17f790>"
            ]
          },
          "metadata": {
            "tags": []
          },
          "execution_count": 11
        },
        {
          "output_type": "display_data",
          "data": {
            "image/png": "[encoded data removed]",
            "text/plain": [
              "<Figure size 432x288 with 1 Axes>"
            ]
          },
          "metadata": {
            "tags": [],
            "needs_background": "light"
          }
        }
      ]
    },
    {
      "cell_type": "markdown",
      "metadata": {
        "id": "MdxA9RVRvtsJ"
      },
      "source": [
        "## Norm of the gradients vs Iterations\r\n",
        "\r\n",
        "Norm of the gradients in each iterations is calculated. From this crve it is seen the gradient is reduced at each iteration and get closer to zero."
      ]
    },
    {
      "cell_type": "code",
      "metadata": {
        "colab": {
          "base_uri": "https://localhost:8080/",
          "height": 313
        },
        "id": "SOMT4z3AvzMp",
        "outputId": "3e5123f1-d600-41a5-a173-1e4ed18aeab6"
      },
      "source": [
        "\r\n",
        "plt.plot(gradient)\r\n",
        "plt.ylabel('norm of the gradients')\r\n",
        "plt.xlabel('iterations (per hundreds)')\r\n",
        "plt.title('Norm of the gradient vs iterations')\r\n"
      ],
      "execution_count": 12,
      "outputs": [
        {
          "output_type": "execute_result",
          "data": {
            "text/plain": [
              "Text(0.5, 1.0, 'Norm of the gradient vs iterations')"
            ]
          },
          "metadata": {
            "tags": []
          },
          "execution_count": 12
        },
        {
          "output_type": "display_data",
          "data": {
            "image/png": "[encoded data removed]",
            "text/plain": [
              "<Figure size 432x288 with 1 Axes>"
            ]
          },
          "metadata": {
            "tags": [],
            "needs_background": "light"
          }
        }
      ]
    },
    {
      "cell_type": "markdown",
      "metadata": {
        "id": "0jcE_if5v1cW"
      },
      "source": [
        "## Cost Vs Regularization Parameter\r\n",
        "\r\n",
        "Cost of the training and validation function for different value of regularization parameter is calculated. It is found that training cost is increased with the increment of regularization parameter. and in the validation set it first decreases and then after a certain value it is increasing. This point indicates that for this particular value of regularization parameter the model can avoid overfitting. "
      ]
    },
    {
      "cell_type": "code",
      "metadata": {
        "colab": {
          "base_uri": "https://localhost:8080/",
          "height": 313
        },
        "id": "LK9eErr_wqd1",
        "outputId": "0b7dcf7e-ea3c-40f4-d89c-e9ffca7e3f2e"
      },
      "source": [
        "\r\n",
        "\r\n",
        "costslam = []\r\n",
        "valcostslam = []\r\n",
        "j =  [x for x in range(1,50,10)]\r\n",
        "for i in j:\r\n",
        "  w, b = weightInitialization(n_features)\r\n",
        "  iter,coeff, gradient, costs, costs_val = LogisticRegression().fit(w, b, X_train, y_train, X_val, y_val, learning_rate=0.01, no_iterations=8000, reg_par = i, early_stopping = 1)\r\n",
        "  costslam.append(costs[-1])\r\n",
        "  valcostslam.append(costs_val[-1])\r\n",
        "  \r\n",
        "\r\n",
        "plt.plot(j,costslam)\r\n",
        "plt.plot(j,valcostslam)\r\n",
        "plt.ylabel('cost')\r\n",
        "plt.xlabel('regularization parameter')\r\n",
        "plt.title('cost vs reglarization parameter')\r\n",
        "plt.legend([\"Training Cost Vs regularization parameter\", \"Validation Cost Vs regularization parameter\"])\r\n"
      ],
      "execution_count": 13,
      "outputs": [
        {
          "output_type": "execute_result",
          "data": {
            "text/plain": [
              "<matplotlib.legend.Legend at 0x7f82ec0fcbd0>"
            ]
          },
          "metadata": {
            "tags": []
          },
          "execution_count": 13
        },
        {
          "output_type": "display_data",
          "data": {
            "image/png": "[encoded data removed]",
            "text/plain": [
              "<Figure size 432x288 with 1 Axes>"
            ]
          },
          "metadata": {
            "tags": [],
            "needs_background": "light"
          }
        }
      ]
    },
    {
      "cell_type": "code",
      "metadata": {
        "colab": {
          "base_uri": "https://localhost:8080/",
          "height": 313
        },
        "id": "Lvw9HSnC2kVO",
        "outputId": "f5116571-4436-4df9-cc4d-708ac3e86abe"
      },
      "source": [
        "\r\n",
        "plt.plot(j,valcostslam)\r\n",
        "plt.ylabel('cost')\r\n",
        "plt.xlabel('regularization parameter')\r\n",
        "plt.title('validation cost vs reglarization parameter')\r\n"
      ],
      "execution_count": 14,
      "outputs": [
        {
          "output_type": "execute_result",
          "data": {
            "text/plain": [
              "Text(0.5, 1.0, 'validation cost vs reglarization parameter')"
            ]
          },
          "metadata": {
            "tags": []
          },
          "execution_count": 14
        },
        {
          "output_type": "display_data",
          "data": {
            "image/png": "[encoded data removed]",
            "text/plain": [
              "<Figure size 432x288 with 1 Axes>"
            ]
          },
          "metadata": {
            "tags": [],
            "needs_background": "light"
          }
        }
      ]
    },
    {
      "cell_type": "markdown",
      "metadata": {
        "id": "94P9LCDnwsbC"
      },
      "source": [
        "##Required Iterations vs step size\r\n",
        "\r\n",
        "From this curve it is seen that for small value of step size, the model requires many iteration compared to the model with large step size. But at certain point if we continue r=to increase the step size it will not converge. "
      ]
    },
    {
      "cell_type": "code",
      "metadata": {
        "colab": {
          "base_uri": "https://localhost:8080/",
          "height": 313
        },
        "id": "AA8bZ_Vnwv6r",
        "outputId": "38514dd9-e70c-47cf-fcf3-ac709783bb8c"
      },
      "source": [
        "\r\n",
        "j =  [x*0.01 for x in range(1,5)]\r\n",
        "iters = []\r\n",
        "for i in j:\r\n",
        "  w, b = weightInitialization(n_features)\r\n",
        "  iter, coeff, gradient, costs, costs_val = LogisticRegression().fit(w, b, X_train, y_train, X_val, y_val, learning_rate=i, no_iterations=8000, reg_par = 20, early_stopping = 1)  \r\n",
        "  iters.append(iter)\r\n",
        "\r\n",
        "plt.plot(j,iters)\r\n",
        "\r\n",
        "plt.ylabel('iter')\r\n",
        "plt.xlabel('step size')\r\n",
        "plt.title('Reqired Iterations vs step size')\r\n",
        "\r\n"
      ],
      "execution_count": 15,
      "outputs": [
        {
          "output_type": "execute_result",
          "data": {
            "text/plain": [
              "Text(0.5, 1.0, 'Reqired Iterations vs step size')"
            ]
          },
          "metadata": {
            "tags": []
          },
          "execution_count": 15
        },
        {
          "output_type": "display_data",
          "data": {
            "image/png": "[encoded data removed]",
            "text/plain": [
              "<Figure size 432x288 with 1 Axes>"
            ]
          },
          "metadata": {
            "tags": [],
            "needs_background": "light"
          }
        }
      ]
    },
    {
      "cell_type": "markdown",
      "metadata": {
        "id": "clZ7i-1XxSZ4"
      },
      "source": [
        "## Cost Vs Sample Size\r\n",
        "\r\n",
        "From this curve it is seen that for small no of training samples, though the training cost is very low, the validation cost is very high. But with the increment of training size the validation lost is reduced which is desired."
      ]
    },
    {
      "cell_type": "code",
      "metadata": {
        "colab": {
          "base_uri": "https://localhost:8080/",
          "height": 350
        },
        "id": "8QpSZg2kxrKt",
        "outputId": "4ab75cfa-c9b4-41ad-9055-49f8d275d1e2"
      },
      "source": [
        "costsam = []\r\n",
        "valcostsam = []\r\n",
        "\r\n",
        "j = range(5,500,5)\r\n",
        "\r\n",
        "for i in range(5, 500, 5):\r\n",
        "  w, b = weightInitialization(n_features)\r\n",
        "  iter, coeff, gradient, costs, costs_val = LogisticRegression().fit(w, b, X_train[1:i,:], y_train[1:i], X_val, y_val, learning_rate=0.01, no_iterations=100, reg_par = 20, early_stopping = 0)  \r\n",
        "  costsam.append(costs[-1])\r\n",
        "  valcostsam.append(costs_val[-1])\r\n",
        "\r\n",
        "plt.plot(j,costsam)\r\n",
        "plt.plot(j,valcostsam)\r\n",
        "plt.ylabel('cost')\r\n",
        "plt.xlabel('sample size')\r\n",
        "plt.title('Cost vs sample size')\r\n",
        "plt.legend([\"Training Cost Vs sample size\", \"Validation Cost Vs sample size\"])\r\n"
      ],
      "execution_count": 16,
      "outputs": [
        {
          "output_type": "stream",
          "text": [
            "/usr/local/lib/python3.7/dist-packages/ipykernel_launcher.py:20: RuntimeWarning: divide by zero encountered in log\n",
            "/usr/local/lib/python3.7/dist-packages/ipykernel_launcher.py:20: RuntimeWarning: invalid value encountered in multiply\n"
          ],
          "name": "stderr"
        },
        {
          "output_type": "execute_result",
          "data": {
            "text/plain": [
              "<matplotlib.legend.Legend at 0x7f82ebedd5d0>"
            ]
          },
          "metadata": {
            "tags": []
          },
          "execution_count": 16
        },
        {
          "output_type": "display_data",
          "data": {
            "image/png": "[encoded data removed]",
            "text/plain": [
              "<Figure size 432x288 with 1 Axes>"
            ]
          },
          "metadata": {
            "tags": [],
            "needs_background": "light"
          }
        }
      ]
    }
  ]
}