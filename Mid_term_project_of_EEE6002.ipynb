{
  "nbformat": 4,
  "nbformat_minor": 0,
  "metadata": {
    "colab": {
      "name": "Mid term project of EEE6002.ipynb",
      "provenance": [],
      "collapsed_sections": []
    },
    "kernelspec": {
      "name": "python3",
      "display_name": "Python 3"
    }
  },
  "cells": [
    {
      "cell_type": "markdown",
      "metadata": {
        "id": "87t3JqIZV6SF"
      },
      "source": [
        "##Midterm Project\r\n",
        "In this project, a logistic regression algorithm is implemented and later applied on the dataset collected from UCI database. Dataset information is provided in https://archive.ics.uci.edu/ml/datasets/QSAR+oral+toxicity"
      ]
    },
    {
      "cell_type": "markdown",
      "metadata": {
        "id": "Z7bpdfOzWc0Q"
      },
      "source": [
        "First of all, Lets open the dataset and show the top 5 entries"
      ]
    },
    {
      "cell_type": "code",
      "metadata": {
        "colab": {
          "base_uri": "https://localhost:8080/",
          "height": 256
        },
        "id": "IFtM85xLV5Uy",
        "outputId": "fb31b891-fea3-416f-b2ba-50be2ab5f780"
      },
      "source": [
        "import pandas as pd\r\n",
        "import numpy as np\r\n",
        "\r\n",
        "link = 'https://raw.githubusercontent.com/tamjidimtiaz/EEE-6002-Privacy_Preserving_Machine_Learning/main/Dataset/qsar_oral_toxicity.csv'\r\n",
        "\r\n",
        "qsar_data = pd.read_csv(link, sep = ';', header = None)\r\n",
        "\r\n",
        "qsar_data.head()\r\n"
      ],
      "execution_count": 93,
      "outputs": [
        {
          "output_type": "execute_result",
          "data": {
            "text/html": [
              "<div>\n",
              "<style scoped>\n",
              "    .dataframe tbody tr th:only-of-type {\n",
              "        vertical-align: middle;\n",
              "    }\n",
              "\n",
              "    .dataframe tbody tr th {\n",
              "        vertical-align: top;\n",
              "    }\n",
              "\n",
              "    .dataframe thead th {\n",
              "        text-align: right;\n",
              "    }\n",
              "</style>\n",
              "<table border=\"1\" class=\"dataframe\">\n",
              "  <thead>\n",
              "    <tr style=\"text-align: right;\">\n",
              "      <th></th>\n",
              "      <th>0</th>\n",
              "      <th>1</th>\n",
              "      <th>2</th>\n",
              "      <th>3</th>\n",
              "      <th>4</th>\n",
              "      <th>5</th>\n",
              "      <th>6</th>\n",
              "      <th>7</th>\n",
              "      <th>8</th>\n",
              "      <th>9</th>\n",
              "      <th>10</th>\n",
              "      <th>11</th>\n",
              "      <th>12</th>\n",
              "      <th>13</th>\n",
              "      <th>14</th>\n",
              "      <th>15</th>\n",
              "      <th>16</th>\n",
              "      <th>17</th>\n",
              "      <th>18</th>\n",
              "      <th>19</th>\n",
              "      <th>20</th>\n",
              "      <th>21</th>\n",
              "      <th>22</th>\n",
              "      <th>23</th>\n",
              "      <th>24</th>\n",
              "      <th>25</th>\n",
              "      <th>26</th>\n",
              "      <th>27</th>\n",
              "      <th>28</th>\n",
              "      <th>29</th>\n",
              "      <th>30</th>\n",
              "      <th>31</th>\n",
              "      <th>32</th>\n",
              "      <th>33</th>\n",
              "      <th>34</th>\n",
              "      <th>35</th>\n",
              "      <th>36</th>\n",
              "      <th>37</th>\n",
              "      <th>38</th>\n",
              "      <th>39</th>\n",
              "      <th>...</th>\n",
              "      <th>985</th>\n",
              "      <th>986</th>\n",
              "      <th>987</th>\n",
              "      <th>988</th>\n",
              "      <th>989</th>\n",
              "      <th>990</th>\n",
              "      <th>991</th>\n",
              "      <th>992</th>\n",
              "      <th>993</th>\n",
              "      <th>994</th>\n",
              "      <th>995</th>\n",
              "      <th>996</th>\n",
              "      <th>997</th>\n",
              "      <th>998</th>\n",
              "      <th>999</th>\n",
              "      <th>1000</th>\n",
              "      <th>1001</th>\n",
              "      <th>1002</th>\n",
              "      <th>1003</th>\n",
              "      <th>1004</th>\n",
              "      <th>1005</th>\n",
              "      <th>1006</th>\n",
              "      <th>1007</th>\n",
              "      <th>1008</th>\n",
              "      <th>1009</th>\n",
              "      <th>1010</th>\n",
              "      <th>1011</th>\n",
              "      <th>1012</th>\n",
              "      <th>1013</th>\n",
              "      <th>1014</th>\n",
              "      <th>1015</th>\n",
              "      <th>1016</th>\n",
              "      <th>1017</th>\n",
              "      <th>1018</th>\n",
              "      <th>1019</th>\n",
              "      <th>1020</th>\n",
              "      <th>1021</th>\n",
              "      <th>1022</th>\n",
              "      <th>1023</th>\n",
              "      <th>1024</th>\n",
              "    </tr>\n",
              "  </thead>\n",
              "  <tbody>\n",
              "    <tr>\n",
              "      <th>0</th>\n",
              "      <td>0</td>\n",
              "      <td>0</td>\n",
              "      <td>0</td>\n",
              "      <td>0</td>\n",
              "      <td>0</td>\n",
              "      <td>0</td>\n",
              "      <td>0</td>\n",
              "      <td>0</td>\n",
              "      <td>0</td>\n",
              "      <td>0</td>\n",
              "      <td>1</td>\n",
              "      <td>0</td>\n",
              "      <td>0</td>\n",
              "      <td>0</td>\n",
              "      <td>0</td>\n",
              "      <td>0</td>\n",
              "      <td>1</td>\n",
              "      <td>0</td>\n",
              "      <td>0</td>\n",
              "      <td>0</td>\n",
              "      <td>0</td>\n",
              "      <td>0</td>\n",
              "      <td>0</td>\n",
              "      <td>0</td>\n",
              "      <td>0</td>\n",
              "      <td>0</td>\n",
              "      <td>0</td>\n",
              "      <td>0</td>\n",
              "      <td>0</td>\n",
              "      <td>0</td>\n",
              "      <td>0</td>\n",
              "      <td>0</td>\n",
              "      <td>0</td>\n",
              "      <td>0</td>\n",
              "      <td>0</td>\n",
              "      <td>0</td>\n",
              "      <td>0</td>\n",
              "      <td>0</td>\n",
              "      <td>0</td>\n",
              "      <td>0</td>\n",
              "      <td>...</td>\n",
              "      <td>1</td>\n",
              "      <td>0</td>\n",
              "      <td>0</td>\n",
              "      <td>0</td>\n",
              "      <td>1</td>\n",
              "      <td>0</td>\n",
              "      <td>0</td>\n",
              "      <td>0</td>\n",
              "      <td>0</td>\n",
              "      <td>0</td>\n",
              "      <td>0</td>\n",
              "      <td>0</td>\n",
              "      <td>0</td>\n",
              "      <td>0</td>\n",
              "      <td>0</td>\n",
              "      <td>0</td>\n",
              "      <td>0</td>\n",
              "      <td>0</td>\n",
              "      <td>0</td>\n",
              "      <td>0</td>\n",
              "      <td>0</td>\n",
              "      <td>0</td>\n",
              "      <td>0</td>\n",
              "      <td>0</td>\n",
              "      <td>0</td>\n",
              "      <td>0</td>\n",
              "      <td>0</td>\n",
              "      <td>0</td>\n",
              "      <td>0</td>\n",
              "      <td>0</td>\n",
              "      <td>0</td>\n",
              "      <td>0</td>\n",
              "      <td>0</td>\n",
              "      <td>0</td>\n",
              "      <td>0</td>\n",
              "      <td>0</td>\n",
              "      <td>0</td>\n",
              "      <td>0</td>\n",
              "      <td>0</td>\n",
              "      <td>negative</td>\n",
              "    </tr>\n",
              "    <tr>\n",
              "      <th>1</th>\n",
              "      <td>0</td>\n",
              "      <td>0</td>\n",
              "      <td>1</td>\n",
              "      <td>0</td>\n",
              "      <td>0</td>\n",
              "      <td>0</td>\n",
              "      <td>0</td>\n",
              "      <td>0</td>\n",
              "      <td>0</td>\n",
              "      <td>0</td>\n",
              "      <td>1</td>\n",
              "      <td>0</td>\n",
              "      <td>0</td>\n",
              "      <td>0</td>\n",
              "      <td>0</td>\n",
              "      <td>0</td>\n",
              "      <td>1</td>\n",
              "      <td>0</td>\n",
              "      <td>0</td>\n",
              "      <td>0</td>\n",
              "      <td>0</td>\n",
              "      <td>0</td>\n",
              "      <td>0</td>\n",
              "      <td>0</td>\n",
              "      <td>0</td>\n",
              "      <td>0</td>\n",
              "      <td>0</td>\n",
              "      <td>0</td>\n",
              "      <td>0</td>\n",
              "      <td>0</td>\n",
              "      <td>0</td>\n",
              "      <td>0</td>\n",
              "      <td>0</td>\n",
              "      <td>0</td>\n",
              "      <td>0</td>\n",
              "      <td>0</td>\n",
              "      <td>0</td>\n",
              "      <td>0</td>\n",
              "      <td>0</td>\n",
              "      <td>0</td>\n",
              "      <td>...</td>\n",
              "      <td>1</td>\n",
              "      <td>0</td>\n",
              "      <td>0</td>\n",
              "      <td>0</td>\n",
              "      <td>0</td>\n",
              "      <td>0</td>\n",
              "      <td>0</td>\n",
              "      <td>0</td>\n",
              "      <td>0</td>\n",
              "      <td>0</td>\n",
              "      <td>1</td>\n",
              "      <td>0</td>\n",
              "      <td>0</td>\n",
              "      <td>0</td>\n",
              "      <td>0</td>\n",
              "      <td>0</td>\n",
              "      <td>0</td>\n",
              "      <td>0</td>\n",
              "      <td>0</td>\n",
              "      <td>0</td>\n",
              "      <td>0</td>\n",
              "      <td>0</td>\n",
              "      <td>1</td>\n",
              "      <td>0</td>\n",
              "      <td>0</td>\n",
              "      <td>0</td>\n",
              "      <td>0</td>\n",
              "      <td>0</td>\n",
              "      <td>0</td>\n",
              "      <td>0</td>\n",
              "      <td>0</td>\n",
              "      <td>0</td>\n",
              "      <td>0</td>\n",
              "      <td>0</td>\n",
              "      <td>0</td>\n",
              "      <td>0</td>\n",
              "      <td>0</td>\n",
              "      <td>0</td>\n",
              "      <td>0</td>\n",
              "      <td>negative</td>\n",
              "    </tr>\n",
              "    <tr>\n",
              "      <th>2</th>\n",
              "      <td>0</td>\n",
              "      <td>0</td>\n",
              "      <td>0</td>\n",
              "      <td>0</td>\n",
              "      <td>0</td>\n",
              "      <td>0</td>\n",
              "      <td>0</td>\n",
              "      <td>0</td>\n",
              "      <td>0</td>\n",
              "      <td>0</td>\n",
              "      <td>1</td>\n",
              "      <td>0</td>\n",
              "      <td>0</td>\n",
              "      <td>0</td>\n",
              "      <td>0</td>\n",
              "      <td>0</td>\n",
              "      <td>1</td>\n",
              "      <td>0</td>\n",
              "      <td>0</td>\n",
              "      <td>0</td>\n",
              "      <td>0</td>\n",
              "      <td>0</td>\n",
              "      <td>0</td>\n",
              "      <td>0</td>\n",
              "      <td>0</td>\n",
              "      <td>0</td>\n",
              "      <td>0</td>\n",
              "      <td>0</td>\n",
              "      <td>0</td>\n",
              "      <td>0</td>\n",
              "      <td>0</td>\n",
              "      <td>0</td>\n",
              "      <td>0</td>\n",
              "      <td>0</td>\n",
              "      <td>0</td>\n",
              "      <td>0</td>\n",
              "      <td>0</td>\n",
              "      <td>0</td>\n",
              "      <td>0</td>\n",
              "      <td>0</td>\n",
              "      <td>...</td>\n",
              "      <td>1</td>\n",
              "      <td>0</td>\n",
              "      <td>0</td>\n",
              "      <td>0</td>\n",
              "      <td>0</td>\n",
              "      <td>0</td>\n",
              "      <td>0</td>\n",
              "      <td>0</td>\n",
              "      <td>0</td>\n",
              "      <td>1</td>\n",
              "      <td>1</td>\n",
              "      <td>0</td>\n",
              "      <td>0</td>\n",
              "      <td>0</td>\n",
              "      <td>0</td>\n",
              "      <td>0</td>\n",
              "      <td>0</td>\n",
              "      <td>0</td>\n",
              "      <td>0</td>\n",
              "      <td>0</td>\n",
              "      <td>0</td>\n",
              "      <td>0</td>\n",
              "      <td>0</td>\n",
              "      <td>0</td>\n",
              "      <td>0</td>\n",
              "      <td>0</td>\n",
              "      <td>0</td>\n",
              "      <td>0</td>\n",
              "      <td>0</td>\n",
              "      <td>0</td>\n",
              "      <td>0</td>\n",
              "      <td>0</td>\n",
              "      <td>1</td>\n",
              "      <td>0</td>\n",
              "      <td>0</td>\n",
              "      <td>0</td>\n",
              "      <td>0</td>\n",
              "      <td>0</td>\n",
              "      <td>0</td>\n",
              "      <td>negative</td>\n",
              "    </tr>\n",
              "    <tr>\n",
              "      <th>3</th>\n",
              "      <td>0</td>\n",
              "      <td>0</td>\n",
              "      <td>0</td>\n",
              "      <td>0</td>\n",
              "      <td>0</td>\n",
              "      <td>0</td>\n",
              "      <td>0</td>\n",
              "      <td>1</td>\n",
              "      <td>0</td>\n",
              "      <td>0</td>\n",
              "      <td>1</td>\n",
              "      <td>0</td>\n",
              "      <td>0</td>\n",
              "      <td>0</td>\n",
              "      <td>0</td>\n",
              "      <td>0</td>\n",
              "      <td>1</td>\n",
              "      <td>0</td>\n",
              "      <td>0</td>\n",
              "      <td>0</td>\n",
              "      <td>0</td>\n",
              "      <td>0</td>\n",
              "      <td>0</td>\n",
              "      <td>0</td>\n",
              "      <td>0</td>\n",
              "      <td>0</td>\n",
              "      <td>0</td>\n",
              "      <td>0</td>\n",
              "      <td>0</td>\n",
              "      <td>0</td>\n",
              "      <td>0</td>\n",
              "      <td>0</td>\n",
              "      <td>0</td>\n",
              "      <td>0</td>\n",
              "      <td>0</td>\n",
              "      <td>0</td>\n",
              "      <td>0</td>\n",
              "      <td>0</td>\n",
              "      <td>0</td>\n",
              "      <td>0</td>\n",
              "      <td>...</td>\n",
              "      <td>1</td>\n",
              "      <td>0</td>\n",
              "      <td>0</td>\n",
              "      <td>0</td>\n",
              "      <td>0</td>\n",
              "      <td>0</td>\n",
              "      <td>0</td>\n",
              "      <td>0</td>\n",
              "      <td>0</td>\n",
              "      <td>0</td>\n",
              "      <td>1</td>\n",
              "      <td>0</td>\n",
              "      <td>0</td>\n",
              "      <td>0</td>\n",
              "      <td>0</td>\n",
              "      <td>0</td>\n",
              "      <td>0</td>\n",
              "      <td>0</td>\n",
              "      <td>0</td>\n",
              "      <td>0</td>\n",
              "      <td>0</td>\n",
              "      <td>0</td>\n",
              "      <td>0</td>\n",
              "      <td>1</td>\n",
              "      <td>0</td>\n",
              "      <td>0</td>\n",
              "      <td>0</td>\n",
              "      <td>0</td>\n",
              "      <td>0</td>\n",
              "      <td>0</td>\n",
              "      <td>0</td>\n",
              "      <td>0</td>\n",
              "      <td>0</td>\n",
              "      <td>0</td>\n",
              "      <td>0</td>\n",
              "      <td>0</td>\n",
              "      <td>0</td>\n",
              "      <td>0</td>\n",
              "      <td>0</td>\n",
              "      <td>negative</td>\n",
              "    </tr>\n",
              "    <tr>\n",
              "      <th>4</th>\n",
              "      <td>0</td>\n",
              "      <td>0</td>\n",
              "      <td>0</td>\n",
              "      <td>0</td>\n",
              "      <td>0</td>\n",
              "      <td>0</td>\n",
              "      <td>0</td>\n",
              "      <td>0</td>\n",
              "      <td>0</td>\n",
              "      <td>0</td>\n",
              "      <td>0</td>\n",
              "      <td>0</td>\n",
              "      <td>0</td>\n",
              "      <td>1</td>\n",
              "      <td>0</td>\n",
              "      <td>0</td>\n",
              "      <td>1</td>\n",
              "      <td>0</td>\n",
              "      <td>0</td>\n",
              "      <td>0</td>\n",
              "      <td>0</td>\n",
              "      <td>0</td>\n",
              "      <td>0</td>\n",
              "      <td>0</td>\n",
              "      <td>0</td>\n",
              "      <td>0</td>\n",
              "      <td>0</td>\n",
              "      <td>0</td>\n",
              "      <td>0</td>\n",
              "      <td>0</td>\n",
              "      <td>0</td>\n",
              "      <td>0</td>\n",
              "      <td>0</td>\n",
              "      <td>0</td>\n",
              "      <td>0</td>\n",
              "      <td>0</td>\n",
              "      <td>0</td>\n",
              "      <td>0</td>\n",
              "      <td>0</td>\n",
              "      <td>0</td>\n",
              "      <td>...</td>\n",
              "      <td>1</td>\n",
              "      <td>0</td>\n",
              "      <td>0</td>\n",
              "      <td>0</td>\n",
              "      <td>0</td>\n",
              "      <td>0</td>\n",
              "      <td>0</td>\n",
              "      <td>0</td>\n",
              "      <td>0</td>\n",
              "      <td>0</td>\n",
              "      <td>1</td>\n",
              "      <td>0</td>\n",
              "      <td>1</td>\n",
              "      <td>0</td>\n",
              "      <td>0</td>\n",
              "      <td>0</td>\n",
              "      <td>0</td>\n",
              "      <td>0</td>\n",
              "      <td>0</td>\n",
              "      <td>0</td>\n",
              "      <td>0</td>\n",
              "      <td>0</td>\n",
              "      <td>1</td>\n",
              "      <td>0</td>\n",
              "      <td>0</td>\n",
              "      <td>0</td>\n",
              "      <td>0</td>\n",
              "      <td>0</td>\n",
              "      <td>0</td>\n",
              "      <td>0</td>\n",
              "      <td>0</td>\n",
              "      <td>0</td>\n",
              "      <td>0</td>\n",
              "      <td>0</td>\n",
              "      <td>0</td>\n",
              "      <td>0</td>\n",
              "      <td>0</td>\n",
              "      <td>0</td>\n",
              "      <td>0</td>\n",
              "      <td>negative</td>\n",
              "    </tr>\n",
              "  </tbody>\n",
              "</table>\n",
              "<p>5 rows × 1025 columns</p>\n",
              "</div>"
            ],
            "text/plain": [
              "   0     1     2     3     4     5     ...  1019  1020  1021  1022  1023      1024\n",
              "0     0     0     0     0     0     0  ...     0     0     0     0     0  negative\n",
              "1     0     0     1     0     0     0  ...     0     0     0     0     0  negative\n",
              "2     0     0     0     0     0     0  ...     0     0     0     0     0  negative\n",
              "3     0     0     0     0     0     0  ...     0     0     0     0     0  negative\n",
              "4     0     0     0     0     0     0  ...     0     0     0     0     0  negative\n",
              "\n",
              "[5 rows x 1025 columns]"
            ]
          },
          "metadata": {
            "tags": []
          },
          "execution_count": 93
        }
      ]
    },
    {
      "cell_type": "markdown",
      "metadata": {
        "id": "RV6yi-hdWtbr"
      },
      "source": [
        "Let's check how many data points we have."
      ]
    },
    {
      "cell_type": "code",
      "metadata": {
        "colab": {
          "base_uri": "https://localhost:8080/"
        },
        "id": "0eoRPGm6WpLW",
        "outputId": "342e82d4-132f-405e-e58e-ee83121b00c5"
      },
      "source": [
        "qsar_data.shape"
      ],
      "execution_count": 94,
      "outputs": [
        {
          "output_type": "execute_result",
          "data": {
            "text/plain": [
              "(8992, 1025)"
            ]
          },
          "metadata": {
            "tags": []
          },
          "execution_count": 94
        }
      ]
    },
    {
      "cell_type": "markdown",
      "metadata": {
        "id": "6qKTu4XAXBX0"
      },
      "source": [
        "Let's check that if the dataset contains any null values"
      ]
    },
    {
      "cell_type": "code",
      "metadata": {
        "colab": {
          "base_uri": "https://localhost:8080/"
        },
        "id": "tBPBYPDMW7wm",
        "outputId": "18b2ce1b-03b0-4929-e947-47d96ead274c"
      },
      "source": [
        "qsar_data.isnull().sum()"
      ],
      "execution_count": 95,
      "outputs": [
        {
          "output_type": "execute_result",
          "data": {
            "text/plain": [
              "0       0\n",
              "1       0\n",
              "2       0\n",
              "3       0\n",
              "4       0\n",
              "       ..\n",
              "1020    0\n",
              "1021    0\n",
              "1022    0\n",
              "1023    0\n",
              "1024    0\n",
              "Length: 1025, dtype: int64"
            ]
          },
          "metadata": {
            "tags": []
          },
          "execution_count": 95
        }
      ]
    },
    {
      "cell_type": "markdown",
      "metadata": {
        "id": "jOT1qlOJXW3J"
      },
      "source": [
        "Let's find the positive and negative class samples and handle them to make a balanced dataset"
      ]
    },
    {
      "cell_type": "code",
      "metadata": {
        "id": "a94_diXLXEX1"
      },
      "source": [
        "# find the positive and negative class samples and create a balanced dataset\r\n",
        "positive=qsar_data[qsar_data[1024]=='positive']\r\n",
        "negative=qsar_data[qsar_data[1024]=='negative'].sample(n=positive.shape[0])\r\n",
        "final=pd.concat([positive,negative])\r\n",
        "\r\n",
        "features = final.iloc[:,:-1].values \r\n",
        "\r\n",
        "# create the target set \r\n",
        "target = final.iloc[:,-1:].values\r\n",
        "target[target=='positive'] = 1\r\n",
        "target[target=='negative'] = 0\r\n",
        "\r\n",
        "target = target.astype('float')"
      ],
      "execution_count": 96,
      "outputs": []
    },
    {
      "cell_type": "markdown",
      "metadata": {
        "id": "UtssTv_yYBnO"
      },
      "source": [
        "Create training, validation and testing dataset. The split is considered as 70-10-20"
      ]
    },
    {
      "cell_type": "code",
      "metadata": {
        "id": "dRgZspTHXwU_"
      },
      "source": [
        "from sklearn.model_selection import train_test_split\r\n",
        "\r\n",
        "X_train, X_test, y_train, y_test = train_test_split(features, target, test_size=0.2, random_state=1)\r\n",
        "\r\n",
        "X_train, X_val, y_train, y_val = train_test_split(X_train, y_train, test_size=0.125, random_state=1) "
      ],
      "execution_count": 98,
      "outputs": []
    },
    {
      "cell_type": "markdown",
      "metadata": {
        "id": "nWnsu-MxYPDz"
      },
      "source": [
        "Check the amount of samples in each sets"
      ]
    },
    {
      "cell_type": "code",
      "metadata": {
        "colab": {
          "base_uri": "https://localhost:8080/"
        },
        "id": "piTD6qo1YSrw",
        "outputId": "82e585a2-aa89-4e27-b093-043dbcb1ee8f"
      },
      "source": [
        "print(len(X_train))\r\n",
        "print(len(X_test))\r\n",
        "print(len(X_val))"
      ],
      "execution_count": 99,
      "outputs": [
        {
          "output_type": "stream",
          "text": [
            "1036\n",
            "297\n",
            "149\n"
          ],
          "name": "stdout"
        }
      ]
    },
    {
      "cell_type": "markdown",
      "metadata": {
        "id": "jWT0grlHEOre"
      },
      "source": [
        "## Logistic Regression \r\n"
      ]
    },
    {
      "cell_type": "code",
      "metadata": {
        "id": "hEzoKd3cYOGv"
      },
      "source": [
        "class LogisticRegression(object):\r\n",
        "    \"\"\"\r\n",
        "    Logistic Regression Classifier\r\n",
        "    \"\"\"\r\n",
        "    def __init__(self, max_iter=8000):\r\n",
        "        self.max_iter       = max_iter\r\n",
        "\r\n",
        "    def sigmoid_activation(self, result):\r\n",
        "        result = result.astype('float')\r\n",
        "        final_result = 1/(1+np.exp(-result))\r\n",
        "        return final_result\r\n",
        "    def model_optimize(self, w, b, X, Y, reg_par):\r\n",
        "        m = X.shape[0]\r\n",
        "        \r\n",
        "        #Prediction\r\n",
        "        final_result = self.sigmoid_activation(np.dot(w,X.T)+b)\r\n",
        "        Y_T = Y.T\r\n",
        "        cost = (-1/m)*(np.sum((Y_T*np.log(final_result)) + ((1-Y_T)*(np.log(1-final_result))))) \r\n",
        "        #\r\n",
        "        \r\n",
        "        #Gradient calculation\r\n",
        "        dw = (1/m)*(np.dot(X.T, (final_result-Y.T).T))-((reg_par*w.T/m))\r\n",
        "        db = (1/m)*(np.sum(final_result-Y.T))\r\n",
        "        \r\n",
        "        grads = {\"dw\": dw, \"db\": db}\r\n",
        "        \r\n",
        "        return grads, cost\r\n",
        "    def fit(self, w, b, X, Y, X_v , Y_v, learning_rate, no_iterations, reg_par, early_stopping):\r\n",
        "        costs = []\r\n",
        "        costs_val = []\r\n",
        "        cost_val_temp = 10000\r\n",
        "        db = []\r\n",
        "        normJ = []\r\n",
        "        reqit = no_iterations\r\n",
        "        for i in range(no_iterations):\r\n",
        "            #\r\n",
        "            grads, cost = self.model_optimize(w,b,X,Y,reg_par)\r\n",
        "            grads_val, cost_val = self.model_optimize(w,b,X_v,Y_v,reg_par)\r\n",
        "            #\r\n",
        "            dw = grads[\"dw\"]\r\n",
        "            normJp=(np.sqrt(np.sum(np.square(dw))))\r\n",
        "            db = grads[\"db\"]\r\n",
        "            #weight update\r\n",
        "            w = w - (learning_rate * (dw.T))\r\n",
        "            b = b - (learning_rate * db)\r\n",
        "            #\r\n",
        "            if (i % 10 == 0):\r\n",
        "                normJ.append(normJp)\r\n",
        "            if (i % 10 == 0):\r\n",
        "                costs_val.append(cost_val)       \r\n",
        "            if (i % 10 == 0):\r\n",
        "                costs.append(cost)\r\n",
        "            if (early_stopping == 1):\r\n",
        "              if (cost_val < cost_val_temp):\r\n",
        "                cost_val_temp = cost_val\r\n",
        "                reqit = i\r\n",
        "                continue\r\n",
        "              else:\r\n",
        "                break\r\n",
        "            else:\r\n",
        "              continue\r\n",
        "\r\n",
        "        #final parameters\r\n",
        "        coeff = {\"w\": w, \"b\": b}\r\n",
        "        gradient = {\"dw\": dw, \"db\": db}\r\n",
        "        \r\n",
        "        return reqit,coeff, normJ, costs, costs_val\r\n",
        "    def predict(self, final_pred, m, threshold):\r\n",
        "        y_pred = np.zeros((1,m))\r\n",
        "        y_pred[final_pred>threshold] = 1\r\n",
        "\r\n",
        "        return y_pred"
      ],
      "execution_count": 100,
      "outputs": []
    },
    {
      "cell_type": "markdown",
      "metadata": {
        "id": "KOscm5LvEWG_"
      },
      "source": [
        "##Training and Validation Accuracy"
      ]
    },
    {
      "cell_type": "code",
      "metadata": {
        "colab": {
          "base_uri": "https://localhost:8080/"
        },
        "id": "3XMRacNqlCJt",
        "outputId": "7eb9a853-db65-403c-e5e8-ae5d386d35e5"
      },
      "source": [
        "\r\n",
        "from sklearn.metrics import accuracy_score\r\n",
        "\r\n",
        "def weightInitialization(n_features):\r\n",
        "        w = np.zeros((1,n_features))\r\n",
        "        b = 0\r\n",
        "        return w,b\r\n",
        "\r\n",
        "n_features = X_train.shape[1]\r\n",
        "print('Number of Features', n_features)\r\n",
        "w, b = weightInitialization(n_features)\r\n",
        "\r\n",
        "iter,coeff, gradient, costs, costs_val = LogisticRegression().fit(w, b, X_train, y_train, X_val, y_val, learning_rate=0.01,no_iterations=16000, reg_par = 0.04, early_stopping = 1)\r\n",
        "  \r\n",
        "#Final prediction\r\n",
        "w = coeff[\"w\"]\r\n",
        "b = coeff[\"b\"]\r\n",
        "\r\n",
        "print('Optimized weights', w)\r\n",
        "print('Optimized intercept',b)\r\n",
        "\r\n",
        "\r\n",
        "#\r\n",
        "final_train_pred = LogisticRegression().sigmoid_activation(np.dot(w,X_train.T)+b)\r\n",
        "final_test_pred = LogisticRegression().sigmoid_activation(np.dot(w,X_val.T)+b)\r\n",
        "#\r\n",
        "m_tr =  X_train.shape[0]\r\n",
        "m_ts =  X_val.shape[0]\r\n",
        "#\r\n",
        "y_tr_pred = LogisticRegression().predict(final_train_pred, m_tr, 0.5)\r\n",
        "y_tr_pred = y_tr_pred.T \r\n",
        "print('Training Accuracy',accuracy_score(y_tr_pred, y_train))\r\n",
        "#\r\n",
        "y_ts_pred = LogisticRegression().predict(final_test_pred, m_ts, 0.5)\r\n",
        "y_ts_pred = y_ts_pred.T \r\n",
        "print('Validation Accuracy',accuracy_score(y_ts_pred, y_val))"
      ],
      "execution_count": 101,
      "outputs": [
        {
          "output_type": "stream",
          "text": [
            "Number of Features 1024\n",
            "Optimized weights [[ 0.05595286  0.10572245  0.19802415 ... -0.07992155 -0.02817128\n",
            "  -0.12615165]]\n",
            "Optimized intercept -0.1446027210844077\n",
            "Training Accuracy 0.9073359073359073\n",
            "Validation Accuracy 0.8322147651006712\n"
          ],
          "name": "stdout"
        }
      ]
    },
    {
      "cell_type": "markdown",
      "metadata": {
        "id": "Y1HNX3FKEkd-"
      },
      "source": [
        "##Precision & Recall Vs threshold"
      ]
    },
    {
      "cell_type": "code",
      "metadata": {
        "colab": {
          "base_uri": "https://localhost:8080/",
          "height": 480
        },
        "id": "owm2kRaDlOe7",
        "outputId": "a94f664e-15f5-4836-82f2-63f082ddb167"
      },
      "source": [
        "from sklearn import metrics\r\n",
        "from sklearn.metrics import precision_score\r\n",
        "from sklearn.metrics import recall_score\r\n",
        "import matplotlib.pyplot as plt\r\n",
        "%matplotlib inline\r\n",
        "\r\n",
        "\r\n",
        "thresholds = range(1,10,1)\r\n",
        "precisions = []\r\n",
        "recalls = []\r\n",
        "for i in thresholds:\r\n",
        "  final_test_pred = LogisticRegression().sigmoid_activation(np.dot(w,X_test.T)+b)\r\n",
        "  m_ts =  X_test.shape[0]\r\n",
        "  y_ts_pred = LogisticRegression().predict(final_test_pred, m_ts, i*0.1)\r\n",
        "  y_ts_pred = y_ts_pred.T \r\n",
        "  print('Test Accuracy',accuracy_score(y_ts_pred, y_test))\r\n",
        "  precisions.append(precision_score(y_test, y_ts_pred, average='macro'))\r\n",
        "  recalls.append(recall_score(y_test, y_ts_pred, average='macro'))\r\n",
        "\r\n",
        "plt.plot(thresholds,precisions)\r\n",
        "plt.plot(thresholds,recalls)\r\n",
        "plt.ylabel('measures')\r\n",
        "plt.xlabel('threshold')\r\n",
        "plt.title('precision & recall vs thresholds')\r\n",
        "plt.legend([\"precision\", \"recall\"])"
      ],
      "execution_count": 102,
      "outputs": [
        {
          "output_type": "stream",
          "text": [
            "Test Accuracy 0.5824915824915825\n",
            "Test Accuracy 0.6161616161616161\n",
            "Test Accuracy 0.6734006734006734\n",
            "Test Accuracy 0.7003367003367004\n",
            "Test Accuracy 0.7239057239057239\n",
            "Test Accuracy 0.7239057239057239\n",
            "Test Accuracy 0.734006734006734\n",
            "Test Accuracy 0.7205387205387206\n",
            "Test Accuracy 0.6363636363636364\n"
          ],
          "name": "stdout"
        },
        {
          "output_type": "execute_result",
          "data": {
            "text/plain": [
              "<matplotlib.legend.Legend at 0x7f33f2445110>"
            ]
          },
          "metadata": {
            "tags": []
          },
          "execution_count": 102
        },
        {
          "output_type": "display_data",
          "data": {
            "image/png": "[encoded data removed]",
            "text/plain": [
              "<Figure size 432x288 with 1 Axes>"
            ]
          },
          "metadata": {
            "tags": [],
            "needs_background": "light"
          }
        }
      ]
    },
    {
      "cell_type": "markdown",
      "metadata": {
        "id": "0MB2q3SQEmH-"
      },
      "source": [
        "##ROC Curve"
      ]
    },
    {
      "cell_type": "code",
      "metadata": {
        "colab": {
          "base_uri": "https://localhost:8080/",
          "height": 313
        },
        "id": "wKbNC-D5nJez",
        "outputId": "41d12c9c-21ae-4b89-a308-b4940319f890"
      },
      "source": [
        "scores = LogisticRegression().sigmoid_activation(np.dot(w,X_test.T)+b)\r\n",
        "fpr, tpr, thresholds = metrics.roc_curve(y_test, scores.T, pos_label=1)\r\n",
        "plt.plot(fpr,tpr)\r\n",
        "plt.ylabel('TPR')\r\n",
        "plt.xlabel('FPR')\r\n",
        "plt.title('ROC CURVE')"
      ],
      "execution_count": 103,
      "outputs": [
        {
          "output_type": "execute_result",
          "data": {
            "text/plain": [
              "Text(0.5, 1.0, 'ROC CURVE')"
            ]
          },
          "metadata": {
            "tags": []
          },
          "execution_count": 103
        },
        {
          "output_type": "display_data",
          "data": {
            "image/png": "[encoded data removed]",
            "text/plain": [
              "<Figure size 432x288 with 1 Axes>"
            ]
          },
          "metadata": {
            "tags": [],
            "needs_background": "light"
          }
        }
      ]
    },
    {
      "cell_type": "markdown",
      "metadata": {
        "id": "6HTOzB03EpCR"
      },
      "source": [
        "## Cost Vs Iteration"
      ]
    },
    {
      "cell_type": "code",
      "metadata": {
        "colab": {
          "base_uri": "https://localhost:8080/",
          "height": 313
        },
        "id": "x4xwB3ePnZW3",
        "outputId": "faf98fbe-b6aa-46e8-9b22-751c58461734"
      },
      "source": [
        "\r\n",
        "plt.plot(costs)\r\n",
        "plt.plot(costs_val)\r\n",
        "plt.ylabel('cost')\r\n",
        "plt.xlabel('iterations (per hundreds)')\r\n",
        "plt.title('Cost reduction over time')\r\n",
        "plt.legend([\"Training Cost Vs Iteration\", \"Testing Cost Vs Iteration\"])"
      ],
      "execution_count": 104,
      "outputs": [
        {
          "output_type": "execute_result",
          "data": {
            "text/plain": [
              "<matplotlib.legend.Legend at 0x7f33f2b16d50>"
            ]
          },
          "metadata": {
            "tags": []
          },
          "execution_count": 104
        },
        {
          "output_type": "display_data",
          "data": {
            "image/png": "[encoded data removed]",
            "text/plain": [
              "<Figure size 432x288 with 1 Axes>"
            ]
          },
          "metadata": {
            "tags": [],
            "needs_background": "light"
          }
        }
      ]
    },
    {
      "cell_type": "markdown",
      "metadata": {
        "id": "rx1-F3POEuJN"
      },
      "source": [
        "## Norm of the gradients vs Iterations"
      ]
    },
    {
      "cell_type": "code",
      "metadata": {
        "colab": {
          "base_uri": "https://localhost:8080/",
          "height": 313
        },
        "id": "EnTCFdX_nt8V",
        "outputId": "5ca3bc6f-6e29-4f8a-c996-253da1202982"
      },
      "source": [
        "\r\n",
        "plt.plot(gradient)\r\n",
        "plt.ylabel('norm of the gradients')\r\n",
        "plt.xlabel('iterations (per hundreds)')\r\n",
        "plt.title('Norm of the gradient vs iterations')\r\n",
        "# plt.legend([\"Training Cost Vs Iteration\", \"Testing Cost Vs Iteration\"])"
      ],
      "execution_count": 105,
      "outputs": [
        {
          "output_type": "execute_result",
          "data": {
            "text/plain": [
              "Text(0.5, 1.0, 'Norm of the gradient vs iterations')"
            ]
          },
          "metadata": {
            "tags": []
          },
          "execution_count": 105
        },
        {
          "output_type": "display_data",
          "data": {
            "image/png": "[encoded data removed]",
            "text/plain": [
              "<Figure size 432x288 with 1 Axes>"
            ]
          },
          "metadata": {
            "tags": [],
            "needs_background": "light"
          }
        }
      ]
    },
    {
      "cell_type": "markdown",
      "metadata": {
        "id": "oNggIcGBE0xH"
      },
      "source": [
        "## Cost Vs Regularization Parameter"
      ]
    },
    {
      "cell_type": "code",
      "metadata": {
        "colab": {
          "base_uri": "https://localhost:8080/",
          "height": 313
        },
        "id": "hgYtbvoinw70",
        "outputId": "07738eef-fc3b-4071-d0fd-1c0a1bd43f65"
      },
      "source": [
        "\r\n",
        "\r\n",
        "costslam = []\r\n",
        "valcostslam = []\r\n",
        "j =  [x for x in range(1,50,10)]\r\n",
        "for i in j:\r\n",
        "  w, b = weightInitialization(n_features)\r\n",
        "  iter,coeff, gradient, costs, costs_val = LogisticRegression().fit(w, b, X_train, y_train, X_val, y_val, learning_rate=0.01, no_iterations=8000, reg_par = i, early_stopping = 1)\r\n",
        "  costslam.append(costs[-1])\r\n",
        "  valcostslam.append(costs_val[-1])\r\n",
        "  \r\n",
        "\r\n",
        "plt.plot(j,costslam)\r\n",
        "plt.plot(j,valcostslam)\r\n",
        "plt.ylabel('cost')\r\n",
        "plt.xlabel('regularization parameter')\r\n",
        "plt.title('cost vs reglarization parameter')\r\n",
        "plt.legend([\"Training Cost Vs regularization parameter\", \"Validation Cost Vs regularization parameter\"])\r\n"
      ],
      "execution_count": 110,
      "outputs": [
        {
          "output_type": "execute_result",
          "data": {
            "text/plain": [
              "<matplotlib.legend.Legend at 0x7f33f23444d0>"
            ]
          },
          "metadata": {
            "tags": []
          },
          "execution_count": 110
        },
        {
          "output_type": "display_data",
          "data": {
            "image/png": "[encoded data removed]",
            "text/plain": [
              "<Figure size 432x288 with 1 Axes>"
            ]
          },
          "metadata": {
            "tags": [],
            "needs_background": "light"
          }
        }
      ]
    },
    {
      "cell_type": "markdown",
      "metadata": {
        "id": "MvHZNj5EE-d1"
      },
      "source": [
        "##Required Iterations vs step size"
      ]
    },
    {
      "cell_type": "code",
      "metadata": {
        "colab": {
          "base_uri": "https://localhost:8080/",
          "height": 313
        },
        "id": "hg4x7a85oBsc",
        "outputId": "89bbdc3e-c6ca-4c95-9fc9-69510b67b6c8"
      },
      "source": [
        "\r\n",
        "j =  [x*0.01 for x in range(1,5)]\r\n",
        "iters = []\r\n",
        "for i in j:\r\n",
        "  w, b = weightInitialization(n_features)\r\n",
        "  iter, coeff, gradient, costs, costs_val = LogisticRegression().fit(w, b, X_train, y_train, X_val, y_val, learning_rate=i, no_iterations=8000, reg_par = 20, early_stopping = 1)  \r\n",
        "  iters.append(iter)\r\n",
        "\r\n",
        "plt.plot(j,iters)\r\n",
        "\r\n",
        "plt.ylabel('iter')\r\n",
        "plt.xlabel('step size')\r\n",
        "plt.title('Reqired Iterations vs step size')\r\n",
        "# plt.legend([\"Training Cost Vs sample size\", \"Testing Cost Vs sample size\"])\r\n"
      ],
      "execution_count": 108,
      "outputs": [
        {
          "output_type": "execute_result",
          "data": {
            "text/plain": [
              "Text(0.5, 1.0, 'Reqired Iterations vs step size')"
            ]
          },
          "metadata": {
            "tags": []
          },
          "execution_count": 108
        },
        {
          "output_type": "display_data",
          "data": {
            "image/png": "[encoded data removed]",
            "text/plain": [
              "<Figure size 432x288 with 1 Axes>"
            ]
          },
          "metadata": {
            "tags": [],
            "needs_background": "light"
          }
        }
      ]
    },
    {
      "cell_type": "markdown",
      "metadata": {
        "id": "jWaNFNmAFFrt"
      },
      "source": [
        "## Cost Vs Sample Size"
      ]
    },
    {
      "cell_type": "code",
      "metadata": {
        "colab": {
          "base_uri": "https://localhost:8080/",
          "height": 350
        },
        "id": "X7U7jPeAo3Wn",
        "outputId": "d13a71a2-bd64-48e1-b43c-3b4bc1fa979f"
      },
      "source": [
        "costsam = []\r\n",
        "valcostsam = []\r\n",
        "\r\n",
        "j = range(5,500,5)\r\n",
        "\r\n",
        "for i in range(5, 500, 5):\r\n",
        "  w, b = weightInitialization(n_features)\r\n",
        "  iter, coeff, gradient, costs, costs_val = LogisticRegression().fit(w, b, X_train[1:i,:], y_train[1:i], X_val, y_val, learning_rate=0.01, no_iterations=100, reg_par = 20, early_stopping = 0)  \r\n",
        "  costsam.append(costs[-1])\r\n",
        "  valcostsam.append(costs_val[-1])\r\n",
        "\r\n",
        "plt.plot(j,costsam)\r\n",
        "plt.plot(j,valcostsam)\r\n",
        "plt.ylabel('cost')\r\n",
        "plt.xlabel('sample size')\r\n",
        "plt.title('Cost vs sample size')\r\n",
        "plt.legend([\"Training Cost Vs sample size\", \"Testing Cost Vs sample size\"])\r\n"
      ],
      "execution_count": 109,
      "outputs": [
        {
          "output_type": "stream",
          "text": [
            "/usr/local/lib/python3.7/dist-packages/ipykernel_launcher.py:35: RuntimeWarning: divide by zero encountered in log\n",
            "/usr/local/lib/python3.7/dist-packages/ipykernel_launcher.py:35: RuntimeWarning: invalid value encountered in multiply\n"
          ],
          "name": "stderr"
        },
        {
          "output_type": "execute_result",
          "data": {
            "text/plain": [
              "<matplotlib.legend.Legend at 0x7f33f2104bd0>"
            ]
          },
          "metadata": {
            "tags": []
          },
          "execution_count": 109
        },
        {
          "output_type": "display_data",
          "data": {
            "image/png": "[encoded data removed]",
            "text/plain": [
              "<Figure size 432x288 with 1 Axes>"
            ]
          },
          "metadata": {
            "tags": [],
            "needs_background": "light"
          }
        }
      ]
    }
  ]
}